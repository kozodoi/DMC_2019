{
 "cells": [
  {
   "cell_type": "markdown",
   "metadata": {},
   "source": [
    "# 1. SETTINGS"
   ]
  },
  {
   "cell_type": "code",
   "execution_count": null,
   "metadata": {},
   "outputs": [],
   "source": [
    "# import packages\n",
    "import pandas as pd\n",
    "import numpy as np\n",
    "import seaborn as sns\n",
    "import matplotlib.pyplot as plt\n",
    "import lightgbm as lgb\n",
    "from sklearn.model_selection import StratifiedKFold\n",
    "from sklearn.preprocessing import RobustScaler\n",
    "from sklearn.decomposition import PCA, FastICA, FactorAnalysis\n",
    "import copy\n",
    "import scipy.stats\n",
    "import os\n",
    "import time\n",
    "import catboost as cb"
   ]
  },
  {
   "cell_type": "code",
   "execution_count": null,
   "metadata": {},
   "outputs": [],
   "source": [
    "# helper functions\n",
    "import functions\n",
    "from functions import *"
   ]
  },
  {
   "cell_type": "code",
   "execution_count": null,
   "metadata": {},
   "outputs": [],
   "source": [
    "# pandas options\n",
    "pd.set_option('display.max_columns', None)"
   ]
  },
  {
   "cell_type": "code",
   "execution_count": null,
   "metadata": {},
   "outputs": [],
   "source": [
    "# dark background style\n",
    "plt.style.use('dark_background')"
   ]
  },
  {
   "cell_type": "code",
   "execution_count": null,
   "metadata": {},
   "outputs": [],
   "source": [
    "# ignore warnings\n",
    "import warnings\n",
    "warnings.filterwarnings('ignore')"
   ]
  },
  {
   "cell_type": "code",
   "execution_count": null,
   "metadata": {},
   "outputs": [],
   "source": [
    "# garbage collection\n",
    "import gc\n",
    "gc.enable()"
   ]
  },
  {
   "cell_type": "markdown",
   "metadata": {},
   "source": [
    "# 2. DATA PREPARATION"
   ]
  },
  {
   "cell_type": "code",
   "execution_count": null,
   "metadata": {},
   "outputs": [],
   "source": [
    "# import CSV\n",
    "df = pd.read_csv('../data/data_v3.csv')\n",
    "print(df.shape)"
   ]
  },
  {
   "cell_type": "code",
   "execution_count": null,
   "metadata": {},
   "outputs": [],
   "source": [
    "# target variable\n",
    "target = 'fraud'"
   ]
  },
  {
   "cell_type": "code",
   "execution_count": null,
   "metadata": {},
   "outputs": [],
   "source": [
    "# partitioning\n",
    "train = df[df[target].isnull() == False]\n",
    "test  = df[df[target].isnull() == True]\n",
    "print(train.shape)\n",
    "print(test.shape)"
   ]
  },
  {
   "cell_type": "code",
   "execution_count": null,
   "metadata": {},
   "outputs": [],
   "source": [
    "# target variable\n",
    "y = train[target]\n",
    "del train[target], test[target]"
   ]
  },
  {
   "cell_type": "markdown",
   "metadata": {},
   "source": [
    "# 3. MODELING"
   ]
  },
  {
   "cell_type": "markdown",
   "metadata": {},
   "source": [
    "### PARAMETERS"
   ]
  },
  {
   "cell_type": "code",
   "execution_count": null,
   "metadata": {},
   "outputs": [],
   "source": [
    "# drop bad features\n",
    "excluded_feats = ['id']\n",
    "features = [f for f in train.columns if f not in excluded_feats]\n",
    "print(train[features].shape)"
   ]
  },
  {
   "cell_type": "code",
   "execution_count": null,
   "metadata": {},
   "outputs": [],
   "source": [
    "# perform PCA\n",
    "#num_comp = 5\n",
    "#pca = PCA(n_components = num_comp)\n",
    "#pca.fit(train[features].values)\n",
    "#train = pd.DataFrame(pca.transform(train[features].values), columns = ['v' + str(v) for v in range(0, num_comp)])\n",
    "#test  = pd.DataFrame(pca.transform(test[features].values),  columns = ['v' + str(v) for v in range(0, num_comp)])\n",
    "#features = list(train.columns)\n",
    "#print(train[features].shape)\n",
    "#print(test[features].shape)"
   ]
  },
  {
   "cell_type": "code",
   "execution_count": null,
   "metadata": {
    "colab": {},
    "colab_type": "code",
    "id": "ynozDG6yivwQ"
   },
   "outputs": [],
   "source": [
    "### PARAMETERS\n",
    "\n",
    "# settings\n",
    "cores = 12\n",
    "seed  = 23\n",
    "\n",
    "# cross-validation\n",
    "num_folds = 5\n",
    "shuffle   = True\n",
    "\n",
    "# muner of rounds\n",
    "max_rounds = 600\n",
    "stopping   = 600\n",
    "verbose    = 200\n",
    "\n",
    "# CB parameters\n",
    "cb_params = {\n",
    "    'boosting_type':     'Plain',\n",
    "    'objective':         'Logloss', #'metrics':           'binary_logloss',\n",
    "    'bootstrap_type':    'Bernoulli',\n",
    "    'subsample':         0.6, # bagging_fraction\n",
    "    'rsm':               0.7, # feature_fraction\n",
    "    'model_size_reg':    0,#.1, # lambda_l1\n",
    "    'l2_leaf_reg':       0, # lambda_l2\n",
    "    #'min_split_gain':    0.01, #TODO\n",
    "    #'min_child_weight':  2, #TODO\n",
    "    'verbose':           False, #'silent': True,\n",
    "    #'verbosity':         -1,\n",
    "    #'learning_rate':     0.1, # recommendation self learning if None\n",
    "    'max_depth':         7,\n",
    "    'ctr_leaf_count_limit':  70, # num_leaves\n",
    "    #'min_data_in_leaf':   20, # min_child_samples, not implemented for CPU computation\n",
    "    # as alternative for max_leaves see ctr_leaf_count_limit\n",
    "    'scale_pos_weight':  1,\n",
    "    'n_estimators':      max_rounds,\n",
    "    'thread_count' :     cores, # nthread\n",
    "    'random_state':      seed,\n",
    "    'eval_metric' :      CustomMetric(), #prediction_reward,\n",
    "    # New parameters\n",
    "    'od_type':           'IncToDec',\n",
    "    'task_type' : 'CPU',\n",
    "    \n",
    "}\n",
    "# CB parameters\n",
    "if False:\n",
    "    cb_params = {\n",
    "        'boosting_type':     'Plain',\n",
    "        'objective':         'Logloss', #'metrics':           'binary_logloss',\n",
    "        'bootstrap_type':    'Bernoulli',\n",
    "        'subsample':         0.9, # bagging_fraction\n",
    "        #rsm':               0.8, # feature_fraction\n",
    "        #model_size_reg':    0.1, # lambda_l1\n",
    "        'l2_leaf_reg':       0.1, # lambda_l2\n",
    "        #'min_split_gain':    0.01, #TODO\n",
    "        #'min_child_weight':  2, #TODO\n",
    "        'verbose':           False, #'silent': True,\n",
    "        #'verbosity':         -1,\n",
    "        #'learning_rate':     0.1, # recommendation self learning\n",
    "        'max_depth':         7,\n",
    "        #ctr_leaf_count_limit':  70, # num_leaves\n",
    "        # as alternative for max_leaves see ctr_leaf_count_limit\n",
    "        'scale_pos_weight':  1,\n",
    "        'n_estimators':      max_rounds,\n",
    "        'thread_count' :     cores, # nthread\n",
    "        'random_state':      seed,\n",
    "        'eval_metric' :      CustomMetric(), #prediction_reward,\n",
    "        # New parameters\n",
    "        'od_type':           'IncToDec',\n",
    "        'task_type' : 'GPU',\n",
    "        'grow_policy': 'Depthwise',\n",
    "        #'min_data_in_leaf':   20, # min_child_samples, not implemented for CPU computation\n",
    "    }\n",
    "\n",
    "\n",
    "# data partitinoing\n",
    "folds = StratifiedKFold(n_splits = num_folds, random_state = seed, shuffle = shuffle)"
   ]
  },
  {
   "cell_type": "code",
   "execution_count": null,
   "metadata": {},
   "outputs": [],
   "source": [
    "# placeholders\n",
    "clfs = []\n",
    "valid_profit = np.zeros(num_folds) \n",
    "preds_test   = np.zeros(test.shape[0])\n",
    "preds_oof    = np.zeros(train.shape[0])\n",
    "importances  = pd.DataFrame()"
   ]
  },
  {
   "cell_type": "code",
   "execution_count": null,
   "metadata": {},
   "outputs": [],
   "source": [
    "# SMOTE settings\n",
    "from imblearn.over_sampling import SMOTE\n",
    "sm = SMOTE(random_state = 23, n_jobs = 10, sampling_strategy = 0.1)"
   ]
  },
  {
   "cell_type": "markdown",
   "metadata": {},
   "source": [
    "### CROSS-VALIDATION"
   ]
  },
  {
   "cell_type": "code",
   "execution_count": null,
   "metadata": {},
   "outputs": [],
   "source": [
    "### CROSS-VALIDATION LOOP\n",
    "for n_fold, (trn_idx, val_idx) in enumerate(folds.split(train, y)):\n",
    "    \n",
    "    # data partitioning\n",
    "    trn_x, trn_y = train[features].iloc[trn_idx], y.iloc[trn_idx]\n",
    "    val_x, val_y = train[features].iloc[val_idx], y.iloc[val_idx]\n",
    "    \n",
    "    ## remove outliers\n",
    "    #out_idx = (np.abs(scipy.stats.zscore(trn_x)) < 10).all(axis = 1)\n",
    "    #trn_x = trn_x[out_idx]\n",
    "    #trn_y = trn_y[out_idx]\n",
    "    \n",
    "    # scale data\n",
    "    scaler   = RobustScaler()\n",
    "    trn_x    = scaler.fit_transform(trn_x)\n",
    "    val_x    = pd.DataFrame(scaler.transform(val_x),          columns = features)\n",
    "    tmp_test = pd.DataFrame(scaler.transform(test[features]), columns = features)\n",
    "\n",
    "    # augment training data with SMOTE\n",
    "    trn_x, trn_y = sm.fit_sample(trn_x, trn_y)\n",
    "    trn_x = pd.DataFrame(trn_x, columns = features)\n",
    "    trn_y = pd.Series(trn_y)\n",
    "    \n",
    "    # factor decomposition\n",
    "    tmp_features = copy.deepcopy(features)\n",
    "    if False:\n",
    "        decomp = FactorAnalysis(n_components = 11)\n",
    "        decomp.fit(trn_x)\n",
    "        trn_x = decomp.transform(trn_x)\n",
    "        val_x = decomp.transform(val_x)\n",
    "        tmp_test = decomp.transform(tmp_test)\n",
    "        tmp_features = ['pc'+str(i) for i in range(decomp.n_components)]\n",
    "    \n",
    "    # add noise to train to reduce overfitting\n",
    "    #trn_x += np.random.normal(0, 0.01, trn_x.shape)\n",
    "    \n",
    "    # mean target encoding\n",
    "    #trn_x, val_x, tmp_test = mean_target_encoding(trn_x, val_x, test, features = ['trustLevel'], target = 'fraud', folds = 5)\n",
    "    #features = [f for f in trn_x.columns if f not in excluded_feats]\n",
    "        \n",
    "    # train lightGBM\n",
    "    print('Custom early stopping: select the best out of %.0f iterations...' % max_rounds)\n",
    "    clf = cb.CatBoostClassifier(**cb_params) \n",
    "    if cb_params.get('task_type',None) is not None and cb_params.get('task_type',None) == 'GPU':\n",
    "        clf = clf.fit(trn_x, trn_y, \n",
    "                      eval_set              = (val_x, val_y)\n",
    "                     )\n",
    "    else:\n",
    "        clf = clf.fit(trn_x, trn_y, \n",
    "                      eval_set              = [(trn_x, trn_y), (val_x, val_y)]\n",
    "                     )\n",
    "    clfs.append(clf)\n",
    "    \n",
    "    # find the best iteration\n",
    "    #best_iter = clf.best_iteration_\n",
    "    best_iter = np.argmax(clf.evals_result_['validation_1']['CustomMetric']) + 1\n",
    "    print('Best iteration is:')\n",
    "    print('[' + str(best_iter) + ']   valid_1 profit: ' + \n",
    "          #str(prediction_reward(val_y, clf.predict_proba(val_x, num_iteration = best_iter)[:, 1])[1].astype('int')))\n",
    "          str(prediction_reward(val_y, clf.predict_proba(val_x, ntree_end = best_iter)[:, 1])[1].astype('int')))\n",
    "       \n",
    "    # predictions\n",
    "    #preds_oof[val_idx]    = clf.predict_proba(val_x, num_iteration = best_iter)[:, 1]\n",
    "    preds_oof[val_idx]    = clf.predict_proba(val_x, ntree_end = best_iter)[:, 1]\n",
    "    valid_profit[n_fold]  = prediction_reward(val_y, preds_oof[val_idx])[1]\n",
    "    #preds_test           += clf.predict_proba(tmp_test, num_iteration = best_iter)[:, 1] / folds.n_splits \n",
    "    preds_test           += clf.predict_proba(tmp_test, ntree_end = best_iter)[:, 1] / folds.n_splits \n",
    "\n",
    "    ## importance\n",
    "    fold_importance_df = pd.DataFrame()\n",
    "    fold_importance_df['Feature'] = tmp_features\n",
    "    fold_importance_df['Importance'] = clf.feature_importances_\n",
    "    fold_importance_df['Fold'] = n_fold + 1\n",
    "    importances = pd.concat([importances, fold_importance_df], axis = 0)\n",
    "    \n",
    "    # print performance\n",
    "    print('----------------------')\n",
    "    print('FOLD%2d: PROFIT = %.0f' % (n_fold + 1, valid_profit[n_fold]))\n",
    "    print('----------------------')\n",
    "    print('')\n",
    "        \n",
    "    # clear memory\n",
    "    del trn_x, trn_y, val_x, val_y\n",
    "    gc.collect()\n",
    "    \n",
    "    # uncomment with mean target encoding\n",
    "    #features = [f for f in train.columns if f not in excluded_feats]\n",
    "    \n",
    "    \n",
    "# print overall performance    \n",
    "cv_perf = np.sum(valid_profit)\n",
    "print('----------------------')\n",
    "print('TOTAL PROFIT = %.0f' % cv_perf)\n",
    "print('----------------------')"
   ]
  },
  {
   "cell_type": "code",
   "execution_count": null,
   "metadata": {},
   "outputs": [],
   "source": [
    "##### RECHECK PROFIT  \n",
    "prediction_reward(y, preds_oof)\n",
    "\n",
    "###### TRACKING RESULTS (5 folds, strat = True, seed = 23) for CATBOOST\n",
    "\n",
    "# V1: implementing CATBOOST: 215 = 85 - 15 + 65 - 10 + 90\n",
    "# V2: param opt:             250 = 75 + 35 + 55 + 15 + 70\n",
    "\n"
   ]
  },
  {
   "cell_type": "markdown",
   "metadata": {},
   "source": [
    "### CUTOFF OPTIMIZATION"
   ]
  },
  {
   "cell_type": "code",
   "execution_count": null,
   "metadata": {},
   "outputs": [],
   "source": [
    "##### OPTIMIZE CUTOFF\n",
    "\n",
    "# set step\n",
    "step = 100\n",
    "\n",
    "# search\n",
    "cutoffs = []\n",
    "profits = []\n",
    "for i in range(0, step):\n",
    "    cutoffs.append(i / step)\n",
    "    profits.append(recompute_reward(y, preds_oof, cutoff = cutoffs[i]))\n",
    "        \n",
    "# results\n",
    "plt.figure(figsize = (10,4))\n",
    "sns.lineplot(x = cutoffs[10:step], y = profits[10:step], color = 'red')\n",
    "plt.tight_layout()\n",
    "plt.axvline(x = cutoffs[np.argmax(profits)], color = 'white', linestyle = '--')\n",
    "print('- optimal cutoff = %.4f' % cutoffs[np.argmax(profits)])\n",
    "print('- optimal profit = %.4f' % profits[np.argmax(profits)])\n",
    "plt.savefig('../cutoff_selection_catboost.pdf')"
   ]
  },
  {
   "cell_type": "markdown",
   "metadata": {},
   "source": [
    "# 4. SUBMISSION"
   ]
  },
  {
   "cell_type": "code",
   "execution_count": null,
   "metadata": {},
   "outputs": [],
   "source": [
    "# file name\n",
    "model = 'cb_v2'\n",
    "perf  = str(round(cv_perf, 0).astype('int'))\n",
    "name  = model + '_' + perf"
   ]
  },
  {
   "cell_type": "code",
   "execution_count": null,
   "metadata": {},
   "outputs": [],
   "source": [
    "# export OOF preds\n",
    "oof = pd.DataFrame({'id': train['id'], 'fraud': preds_oof})\n",
    "oof.to_csv('../oof_preds/' + str(name) + '.csv', index = False)\n",
    "oof.head()\n",
    "name"
   ]
  },
  {
   "cell_type": "code",
   "execution_count": null,
   "metadata": {},
   "outputs": [],
   "source": [
    "# check submission\n",
    "sub = pd.DataFrame({'id': test['id'], 'fraud': preds_test})\n",
    "sub['fraud'] = np.round(sub['fraud']).astype('int')\n",
    "sub.head()"
   ]
  },
  {
   "cell_type": "code",
   "execution_count": null,
   "metadata": {},
   "outputs": [],
   "source": [
    "# export submission\n",
    "sub = sub[['fraud']]\n",
    "sub.to_csv('../submissions/' + str(name) + '.csv', index = False)\n",
    "sub.shape"
   ]
  },
  {
   "cell_type": "code",
   "execution_count": null,
   "metadata": {},
   "outputs": [],
   "source": [
    "# check correlation with previous submission\n",
    "prev_sub = pd.read_csv('../submissions/cb_v1_210.csv')\n",
    "cor = np.sum(prev_sub[target] == sub.reset_index()[target]) / len(sub)\n",
    "print(\"Share of the same predictions: \" + str(np.round(cor, 6)))"
   ]
  },
  {
   "cell_type": "code",
   "execution_count": null,
   "metadata": {},
   "outputs": [],
   "source": []
  }
 ],
 "metadata": {
  "kernelspec": {
   "display_name": "Python 3",
   "language": "python",
   "name": "python3"
  },
  "language_info": {
   "codemirror_mode": {
    "name": "ipython",
    "version": 3
   },
   "file_extension": ".py",
   "mimetype": "text/x-python",
   "name": "python",
   "nbconvert_exporter": "python",
   "pygments_lexer": "ipython3",
   "version": "3.7.1"
  }
 },
 "nbformat": 4,
 "nbformat_minor": 2
}
