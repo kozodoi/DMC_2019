{
 "cells": [
  {
   "cell_type": "markdown",
   "metadata": {},
   "source": [
    "# 1. SETTINGS"
   ]
  },
  {
   "cell_type": "code",
   "execution_count": 35,
   "metadata": {},
   "outputs": [],
   "source": [
    "import pandas as pd\n",
    "import numpy as np\n",
    "import seaborn as sns\n",
    "import matplotlib.pyplot as plt\n",
    "\n",
    "import lightgbm as lgb\n",
    "\n",
    "from sklearn.metrics import roc_auc_score\n",
    "from sklearn.model_selection import StratifiedKFold\n",
    "\n",
    "import scipy.stats\n",
    "\n",
    "import os\n",
    "import time"
   ]
  },
  {
   "cell_type": "code",
   "execution_count": 36,
   "metadata": {},
   "outputs": [],
   "source": [
    "# pandas options\n",
    "pd.set_option(\"display.max_columns\", None)"
   ]
  },
  {
   "cell_type": "code",
   "execution_count": 37,
   "metadata": {},
   "outputs": [],
   "source": [
    "# white axis labeles\n",
    "params = {\"ytick.color\" : \"w\",\n",
    "          \"xtick.color\" : \"w\",\n",
    "          \"axes.labelcolor\" : \"w\",\n",
    "          \"axes.edgecolor\" : \"w\"}\n",
    "plt.rcParams.update(params)"
   ]
  },
  {
   "cell_type": "code",
   "execution_count": 38,
   "metadata": {},
   "outputs": [],
   "source": [
    "# ignore warnings\n",
    "import warnings\n",
    "warnings.filterwarnings(\"ignore\")"
   ]
  },
  {
   "cell_type": "code",
   "execution_count": 39,
   "metadata": {},
   "outputs": [],
   "source": [
    "# garbage collection\n",
    "import gc\n",
    "gc.enable()"
   ]
  },
  {
   "cell_type": "markdown",
   "metadata": {},
   "source": [
    "# 2. DATA PARTITIONING"
   ]
  },
  {
   "cell_type": "code",
   "execution_count": 40,
   "metadata": {},
   "outputs": [
    {
     "name": "stdout",
     "output_type": "stream",
     "text": [
      "(500000, 10)\n"
     ]
    }
   ],
   "source": [
    "# import CSV\n",
    "df = pd.read_csv('../data/data_v1.csv')\n",
    "print(df.shape)"
   ]
  },
  {
   "cell_type": "code",
   "execution_count": 41,
   "metadata": {},
   "outputs": [],
   "source": [
    "# target variable\n",
    "target = 'fraud'"
   ]
  },
  {
   "cell_type": "code",
   "execution_count": 42,
   "metadata": {},
   "outputs": [
    {
     "name": "stdout",
     "output_type": "stream",
     "text": [
      "(1879, 10)\n",
      "(498121, 10)\n"
     ]
    }
   ],
   "source": [
    "# partitioning\n",
    "train = df[df[target].isnull() == False]\n",
    "test  = df[df[target].isnull() == True]\n",
    "print(train.shape)\n",
    "print(test.shape)"
   ]
  },
  {
   "cell_type": "code",
   "execution_count": 43,
   "metadata": {},
   "outputs": [],
   "source": [
    "# target encoding\n",
    "y = train[target]\n",
    "del train[target], test[target]"
   ]
  },
  {
   "cell_type": "markdown",
   "metadata": {},
   "source": [
    "# 3. MODELING"
   ]
  },
  {
   "cell_type": "code",
   "execution_count": 44,
   "metadata": {},
   "outputs": [
    {
     "name": "stdout",
     "output_type": "stream",
     "text": [
      "(1879, 9)\n"
     ]
    }
   ],
   "source": [
    "# drop bad features\n",
    "excluded_feats = []\n",
    "features = [f for f in train.columns if f not in excluded_feats]\n",
    "print(train[features].shape)"
   ]
  },
  {
   "cell_type": "code",
   "execution_count": 45,
   "metadata": {
    "colab": {},
    "colab_type": "code",
    "id": "ynozDG6yivwQ"
   },
   "outputs": [],
   "source": [
    "### PARAMETERS\n",
    "\n",
    "# settings\n",
    "cores = 10\n",
    "seed = 23\n",
    "\n",
    "# cross-validation\n",
    "num_folds = 5\n",
    "shuffle   = True\n",
    "\n",
    "# learner\n",
    "metric   = \"auc\"\n",
    "verbose  = 200\n",
    "stopping = 300\n",
    "\n",
    "# lightGBM\n",
    "gbm = lgb.LGBMClassifier(n_estimators     = 10000,\n",
    "                         learning_rate    = 0.005,\n",
    "                         num_leaves       = 70,\n",
    "                         colsample_bytree = 0.8,\n",
    "                         subsample        = 0.9,\n",
    "                         max_depth        = 7,\n",
    "                         reg_alpha        = 0.1,\n",
    "                         reg_lambda       = 0.1,\n",
    "                         min_split_gain   = 0.01,\n",
    "                         min_child_weight = 2,\n",
    "                         random_state     = seed,\n",
    "                         num_threads      = cores)\n",
    "\n",
    "# data partitinoing\n",
    "folds = StratifiedKFold(n_splits = num_folds, random_state = seed, shuffle = shuffle)"
   ]
  },
  {
   "cell_type": "code",
   "execution_count": 46,
   "metadata": {},
   "outputs": [],
   "source": [
    "# placeholders\n",
    "valid_aucs_cv = np.zeros(num_folds) \n",
    "test_preds_cv = np.zeros(test.shape[0])\n",
    "oof_preds_cv  = np.zeros(train.shape[0])\n",
    "feature_importance_df = pd.DataFrame()"
   ]
  },
  {
   "cell_type": "code",
   "execution_count": 54,
   "metadata": {},
   "outputs": [
    {
     "name": "stdout",
     "output_type": "stream",
     "text": [
      "Training until validation scores don't improve for 300 rounds.\n",
      "[200]\ttraining's auc: 0.998668\tvalid_1's auc: 0.991549\n",
      "[400]\ttraining's auc: 0.999686\tvalid_1's auc: 0.993159\n",
      "[600]\ttraining's auc: 0.999907\tvalid_1's auc: 0.994098\n",
      "[800]\ttraining's auc: 0.999992\tvalid_1's auc: 0.9945\n",
      "[1000]\ttraining's auc: 1\tvalid_1's auc: 0.994903\n",
      "Early stopping, best iteration is:\n",
      "[799]\ttraining's auc: 1\tvalid_1's auc: 0.994366\n",
      "----------------------\n",
      "Fold 1 AUC: 0.994366\n",
      "----------------------\n",
      "\n",
      "Training until validation scores don't improve for 300 rounds.\n",
      "[200]\ttraining's auc: 0.998931\tvalid_1's auc: 0.989269\n",
      "[400]\ttraining's auc: 0.999601\tvalid_1's auc: 0.990744\n",
      "[600]\ttraining's auc: 0.999881\tvalid_1's auc: 0.991415\n",
      "[800]\ttraining's auc: 0.999966\tvalid_1's auc: 0.992086\n",
      "[1000]\ttraining's auc: 0.999966\tvalid_1's auc: 0.992354\n",
      "[1200]\ttraining's auc: 0.999992\tvalid_1's auc: 0.993025\n",
      "[1400]\ttraining's auc: 1\tvalid_1's auc: 0.993427\n",
      "Early stopping, best iteration is:\n",
      "[1221]\ttraining's auc: 1\tvalid_1's auc: 0.993025\n",
      "----------------------\n",
      "Fold 2 AUC: 0.993025\n",
      "----------------------\n",
      "\n",
      "Training until validation scores don't improve for 300 rounds.\n",
      "[200]\ttraining's auc: 0.999016\tvalid_1's auc: 0.981757\n",
      "[400]\ttraining's auc: 0.99983\tvalid_1's auc: 0.989537\n",
      "[600]\ttraining's auc: 0.999975\tvalid_1's auc: 0.991683\n",
      "[800]\ttraining's auc: 1\tvalid_1's auc: 0.992354\n",
      "Early stopping, best iteration is:\n",
      "[668]\ttraining's auc: 1\tvalid_1's auc: 0.991952\n",
      "----------------------\n",
      "Fold 3 AUC: 0.991952\n",
      "----------------------\n",
      "\n",
      "Training until validation scores don't improve for 300 rounds.\n",
      "[200]\ttraining's auc: 0.998396\tvalid_1's auc: 0.972032\n",
      "Early stopping, best iteration is:\n",
      "[18]\ttraining's auc: 0.992695\tvalid_1's auc: 0.978739\n",
      "----------------------\n",
      "Fold 4 AUC: 0.978739\n",
      "----------------------\n",
      "\n",
      "Training until validation scores don't improve for 300 rounds.\n",
      "[200]\ttraining's auc: 0.998726\tvalid_1's auc: 0.991127\n",
      "[400]\ttraining's auc: 0.99979\tvalid_1's auc: 0.993662\n",
      "[600]\ttraining's auc: 0.999992\tvalid_1's auc: 0.993944\n",
      "[800]\ttraining's auc: 1\tvalid_1's auc: 0.994648\n",
      "[1000]\ttraining's auc: 1\tvalid_1's auc: 0.995211\n",
      "Early stopping, best iteration is:\n",
      "[715]\ttraining's auc: 1\tvalid_1's auc: 0.994648\n",
      "----------------------\n",
      "Fold 5 AUC: 0.994648\n",
      "----------------------\n",
      "\n",
      "CV AUC score: 0.990546\n"
     ]
    }
   ],
   "source": [
    "### CROSS-VALIDATION LOOP\n",
    "for n_fold, (trn_idx, val_idx) in enumerate(folds.split(train, y)):\n",
    "    \n",
    "    # data partitioning\n",
    "    trn_x, trn_y = train[features].iloc[trn_idx], y.iloc[trn_idx]\n",
    "    val_x, val_y = train[features].iloc[val_idx], y.iloc[val_idx]\n",
    "        \n",
    "    # train lightGBM\n",
    "    gbm = gbm.fit(trn_x, trn_y, \n",
    "                  eval_set = [(trn_x, trn_y), (val_x, val_y)], \n",
    "                  eval_metric = metric, \n",
    "                  verbose = verbose, \n",
    "                  early_stopping_rounds = stopping)\n",
    "    \n",
    "    # save number of iterations\n",
    "    num_iter_cv = gbm.best_iteration_\n",
    "       \n",
    "    # predictions\n",
    "    oof_preds_cv[val_idx] =  gbm.predict_proba(val_x, num_iteration = num_iter_cv)[:, 1]\n",
    "    valid_aucs_cv[n_fold] = roc_auc_score(val_y, oof_preds_cv[val_idx])\n",
    "    test_preds_cv += gbm.predict_proba(test[features], num_iteration = num_iter_cv)[:, 1] / folds.n_splits \n",
    "    \n",
    "    # importance\n",
    "    fold_importance_df = pd.DataFrame()\n",
    "    fold_importance_df[\"Feature\"] = features\n",
    "    fold_importance_df[\"Importance\"] = gbm.feature_importances_\n",
    "    fold_importance_df[\"Fold\"] = n_fold + 1\n",
    "    feature_importance_df = pd.concat([feature_importance_df, fold_importance_df], axis = 0)\n",
    "    \n",
    "    # print performance\n",
    "    print(\"----------------------\")\n",
    "    print(\"Fold%2d AUC: %.6f\" % (n_fold + 1, valid_aucs_cv[n_fold]))\n",
    "    print(\"----------------------\")\n",
    "    print(\"\")\n",
    "    \n",
    "    # clear memory\n",
    "    del trn_x, trn_y, val_x, val_y\n",
    "    gc.collect()\n",
    "    \n",
    "# print overall performance    \n",
    "cv_perf = np.mean(valid_aucs_cv)\n",
    "print(\"CV AUC score: %.6f\" % cv_perf)\n",
    "\n",
    "\n",
    "###### TRACKING RESULTS\n",
    "\n"
   ]
  },
  {
   "cell_type": "code",
   "execution_count": 55,
   "metadata": {},
   "outputs": [
    {
     "data": {
      "image/png": "[encoded data removed]",
      "text/plain": [
       "<Figure size 720x720 with 1 Axes>"
      ]
     },
     "metadata": {},
     "output_type": "display_data"
    }
   ],
   "source": [
    "##### VARIABLE IMPORTANCE\n",
    "\n",
    "# load importance    \n",
    "top_feats = 100\n",
    "cols = feature_importance_df[[\"Feature\", \"Importance\"]].groupby(\"Feature\").mean().sort_values(by = \"Importance\", ascending = False)[0:top_feats].index\n",
    "importance = feature_importance_df.loc[feature_importance_df.Feature.isin(cols)]\n",
    "    \n",
    "# plot variable importance\n",
    "plt.figure(figsize = (10, 10))\n",
    "sns.barplot(x = \"Importance\", y = \"Feature\", data = importance.sort_values(by = \"Importance\", ascending = False))\n",
    "plt.title('LightGBM Variable Importance (mean over CV folds)')\n",
    "plt.tight_layout()\n",
    "\n",
    "# save plot as pdf\n",
    "plt.savefig(\"../var_importance.pdf\")"
   ]
  },
  {
   "cell_type": "markdown",
   "metadata": {},
   "source": [
    "# 4. SUBMISSION"
   ]
  },
  {
   "cell_type": "code",
   "execution_count": 58,
   "metadata": {},
   "outputs": [],
   "source": [
    "# file name\n",
    "model = 'lgb_v1'\n",
    "perf  = str(round(cv_perf, 6))[2:8]\n",
    "name  = model + '_' + perf"
   ]
  },
  {
   "cell_type": "code",
   "execution_count": 59,
   "metadata": {},
   "outputs": [
    {
     "data": {
      "text/plain": [
       "(498121, 1)"
      ]
     },
     "execution_count": 59,
     "metadata": {},
     "output_type": "execute_result"
    }
   ],
   "source": [
    "# export submission\n",
    "sub = pd.DataFrame(test_preds_cv, columns = ['fraud'])\n",
    "sub.to_csv('../submissions/' + str(name) + '.csv', index = False)\n",
    "sub.shape"
   ]
  },
  {
   "cell_type": "code",
   "execution_count": 62,
   "metadata": {},
   "outputs": [
    {
     "data": {
      "text/plain": [
       "(1879, 1)"
      ]
     },
     "execution_count": 62,
     "metadata": {},
     "output_type": "execute_result"
    }
   ],
   "source": [
    "# export OOF preds\n",
    "oof_preds_cv = pd.DataFrame(oof_preds_cv, columns = ['fraud'])\n",
    "oof_preds_cv.to_csv('../oof_preds/' + str(name) + '.csv', index = False)\n",
    "oof_preds_cv.shape"
   ]
  }
 ],
 "metadata": {
  "kernelspec": {
   "display_name": "Python 3",
   "language": "python",
   "name": "python3"
  },
  "language_info": {
   "codemirror_mode": {
    "name": "ipython",
    "version": 3
   },
   "file_extension": ".py",
   "mimetype": "text/x-python",
   "name": "python",
   "nbconvert_exporter": "python",
   "pygments_lexer": "ipython3",
   "version": "3.6.5"
  }
 },
 "nbformat": 4,
 "nbformat_minor": 2
}
