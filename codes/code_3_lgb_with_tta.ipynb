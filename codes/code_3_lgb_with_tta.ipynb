{
 "cells": [
  {
   "cell_type": "markdown",
   "metadata": {},
   "source": [
    "# 1. SETTINGS"
   ]
  },
  {
   "cell_type": "code",
   "execution_count": null,
   "metadata": {},
   "outputs": [],
   "source": [
    "# import packages\n",
    "import pandas as pd\n",
    "import numpy as np\n",
    "import seaborn as sns\n",
    "import matplotlib.pyplot as plt\n",
    "import lightgbm as lgb\n",
    "from sklearn.model_selection import StratifiedKFold\n",
    "from sklearn.preprocessing import RobustScaler\n",
    "import scipy.stats\n",
    "import os\n",
    "import time"
   ]
  },
  {
   "cell_type": "code",
   "execution_count": null,
   "metadata": {},
   "outputs": [],
   "source": [
    "# helper functions\n",
    "import functions\n",
    "from functions import *"
   ]
  },
  {
   "cell_type": "code",
   "execution_count": null,
   "metadata": {},
   "outputs": [],
   "source": [
    "# pandas options\n",
    "pd.set_option('display.max_columns', None)"
   ]
  },
  {
   "cell_type": "code",
   "execution_count": null,
   "metadata": {},
   "outputs": [],
   "source": [
    "# white axis labeles\n",
    "params = {'ytick.color' :     'w',\n",
    "          'xtick.color' :     'w',\n",
    "          'axes.labelcolor' : 'w',\n",
    "          'axes.edgecolor' :  'w'}\n",
    "plt.rcParams.update(params)"
   ]
  },
  {
   "cell_type": "code",
   "execution_count": null,
   "metadata": {},
   "outputs": [],
   "source": [
    "# ignore warnings\n",
    "import warnings\n",
    "warnings.filterwarnings('ignore')"
   ]
  },
  {
   "cell_type": "code",
   "execution_count": null,
   "metadata": {},
   "outputs": [],
   "source": [
    "# garbage collection\n",
    "import gc\n",
    "gc.enable()"
   ]
  },
  {
   "cell_type": "markdown",
   "metadata": {},
   "source": [
    "# 2. DATA PARTITIONING"
   ]
  },
  {
   "cell_type": "code",
   "execution_count": null,
   "metadata": {},
   "outputs": [],
   "source": [
    "# import CSV\n",
    "df = pd.read_csv('../data/data_v3.csv')\n",
    "print(df.shape)"
   ]
  },
  {
   "cell_type": "code",
   "execution_count": null,
   "metadata": {},
   "outputs": [],
   "source": [
    "# target variable\n",
    "target = 'fraud'"
   ]
  },
  {
   "cell_type": "code",
   "execution_count": null,
   "metadata": {},
   "outputs": [],
   "source": [
    "# partitioning\n",
    "train = df[df[target].isnull() == False]\n",
    "test  = df[df[target].isnull() == True]\n",
    "print(train.shape)\n",
    "print(test.shape)"
   ]
  },
  {
   "cell_type": "code",
   "execution_count": null,
   "metadata": {},
   "outputs": [],
   "source": [
    "# target variable\n",
    "y = train[target]\n",
    "del train[target], test[target]"
   ]
  },
  {
   "cell_type": "markdown",
   "metadata": {},
   "source": [
    "# 3. MODELING"
   ]
  },
  {
   "cell_type": "code",
   "execution_count": null,
   "metadata": {},
   "outputs": [],
   "source": [
    "# drop bad features\n",
    "excluded_feats = ['id']\n",
    "features = [f for f in train.columns if f not in excluded_feats]\n",
    "print(train[features].shape)"
   ]
  },
  {
   "cell_type": "code",
   "execution_count": null,
   "metadata": {
    "colab": {},
    "colab_type": "code",
    "id": "ynozDG6yivwQ"
   },
   "outputs": [],
   "source": [
    "### PARAMETERS\n",
    "\n",
    "# settings\n",
    "cores = 12\n",
    "seed  = 23\n",
    "\n",
    "# cross-validation\n",
    "num_folds = 5\n",
    "shuffle   = True\n",
    "\n",
    "# muner of rounds\n",
    "max_rounds = 600\n",
    "stopping   = 600\n",
    "verbose    = 200\n",
    "\n",
    "# LGB parameters\n",
    "lgb_params = {\n",
    "    'boosting_type':     'gbdt',\n",
    "    'objective':         'binary',\n",
    "    'metrics':           'binary_logloss',\n",
    "    'subsample':         0.9,\n",
    "    'feature_fraction':  0.8,\n",
    "    'lambda_l1':         0.1,\n",
    "    'lambda_l2':         0.1,\n",
    "    'min_split_gain':    0.01,\n",
    "    'min_child_weight':  2,\n",
    "    'min_child_samples': 20,\n",
    "    'silent':            True,\n",
    "    'verbosity':         -1,\n",
    "    'learning_rate':     0.05,\n",
    "    'max_depth':         7,\n",
    "    'num_leaves':        70,\n",
    "    'scale_pos_weight':  1,\n",
    "    'n_estimators':      max_rounds,\n",
    "    'nthread' :          cores,\n",
    "    'random_state':      seed,\n",
    "}\n",
    "\n",
    "# data partitinoing\n",
    "folds = StratifiedKFold(n_splits = num_folds, random_state = seed, shuffle = shuffle)"
   ]
  },
  {
   "cell_type": "code",
   "execution_count": null,
   "metadata": {},
   "outputs": [],
   "source": [
    "# placeholders\n",
    "clfs = []\n",
    "valid_profit = np.zeros(num_folds) \n",
    "preds_test   = np.zeros(test.shape[0])\n",
    "preds_oof    = np.zeros(train.shape[0])\n",
    "importances  = pd.DataFrame()"
   ]
  },
  {
   "cell_type": "code",
   "execution_count": null,
   "metadata": {},
   "outputs": [],
   "source": [
    "# SMOTE settings\n",
    "from imblearn.over_sampling import SMOTE\n",
    "sm = SMOTE(random_state = 23, n_jobs = 10, sampling_strategy = 0.1)"
   ]
  },
  {
   "cell_type": "code",
   "execution_count": null,
   "metadata": {},
   "outputs": [],
   "source": [
    "########### FUNCTION FOR TEST TIME AUGMENTATION\n",
    "\n",
    "# creates multiple versionf of test data (with noise)\n",
    "# averages predictions over the created samples\n",
    "\n",
    "def predict_proba_with_tta(X_test, model, num_iteration, alpha = 0.01, n = 4, seed = 0):\n",
    "    \n",
    "    # set random seed\n",
    "    np.random.seed(seed = seed)\n",
    "    \n",
    "    # original prediction\n",
    "    preds = model.predict_proba(X_test, num_iteration = num_iteration)[:, 1] / (n + 1)\n",
    "     \n",
    "    # select numeric features\n",
    "    num_vars = [var for var in X_test.columns if X_test[var].dtype != \"object\"]\n",
    "    \n",
    "    # synthetic predictions\n",
    "    for i in range(n):\n",
    "        \n",
    "        # copy data\n",
    "        X_new = X_test.copy()\n",
    "                  \n",
    "        # introduce noise\n",
    "        for var in num_vars:\n",
    "            X_new[var] = X_new[var] + alpha * np.random.normal(0, 1, size = len(X_new)) * X_new[var].std()\n",
    "            \n",
    "        # predict probss\n",
    "        preds_new = model.predict_proba(X_new, num_iteration = num_iteration)[:, 1]\n",
    "        preds += preds_new / (n + 1)\n",
    "    \n",
    "    # return probs\n",
    "    return preds"
   ]
  },
  {
   "cell_type": "code",
   "execution_count": null,
   "metadata": {},
   "outputs": [],
   "source": [
    "### CROSS-VALIDATION LOOP\n",
    "for n_fold, (trn_idx, val_idx) in enumerate(folds.split(train, y)):\n",
    "    \n",
    "    # data partitioning\n",
    "    trn_x, trn_y = train[features].iloc[trn_idx], y.iloc[trn_idx]\n",
    "    val_x, val_y = train[features].iloc[val_idx], y.iloc[val_idx]\n",
    "    \n",
    "    # scale data\n",
    "    scaler   = RobustScaler()\n",
    "    trn_x    = scaler.fit_transform(trn_x)\n",
    "    val_x    = pd.DataFrame(scaler.transform(val_x),          columns = features)\n",
    "    tmp_test = pd.DataFrame(scaler.transform(test[features]), columns = features)\n",
    "\n",
    "    # augment training data with SMOTE\n",
    "    trn_x, trn_y = sm.fit_sample(trn_x, trn_y)\n",
    "    trn_x = pd.DataFrame(trn_x, columns = features)\n",
    "    trn_y = pd.Series(trn_y)\n",
    "      \n",
    "    # add noise to train to reduce overfitting\n",
    "    #trn_x += np.random.normal(0, 0.01, trn_x.shape)\n",
    "    \n",
    "    # mean target encoding\n",
    "    #trn_x, val_x, tmp_test = mean_target_encoding(trn_x, val_x, test, features = ['trustLevel'], target = 'fraud', folds = 5)\n",
    "    #features = [f for f in trn_x.columns if f not in excluded_feats]\n",
    "        \n",
    "    # train lightGBM\n",
    "    print('Custom early stopping: select the best out of %.0f iterations...' % max_rounds)\n",
    "    clf = lgb.LGBMClassifier(**lgb_params) \n",
    "    clf = clf.fit(trn_x, trn_y, \n",
    "                  eval_set              = [(trn_x, trn_y), (val_x, val_y)], \n",
    "                  eval_metric           = prediction_reward, \n",
    "                  #eval_metric           = \"logloss\", \n",
    "                  #early_stopping_rounds = stopping,\n",
    "                  verbose               = verbose)\n",
    "    clfs.append(clf)\n",
    "    \n",
    "    # find the best iteration\n",
    "    #best_iter = clf.best_iteration_\n",
    "    best_iter = np.argmax(clf.evals_result_['valid_1']['profit']) + 1\n",
    "    print('Best iteration is:')\n",
    "    print('[' + str(best_iter) + ']   valid_1 profit: ' + \n",
    "          str(prediction_reward(val_y, clf.predict_proba(val_x, num_iteration = best_iter)[:, 1])[1].astype('int')))\n",
    "       \n",
    "    # predictions\n",
    "    #preds_oof[val_idx]    = clf.predict_proba(val_x, num_iteration = best_iter)[:, 1]\n",
    "    preds_oof[val_idx]    = predict_proba_with_tta(val_x, model = clf, num_iteration = best_iter, \n",
    "                                                   alpha = 0.001, n = 10, seed = 7)\n",
    "    valid_profit[n_fold]  = prediction_reward(val_y, preds_oof[val_idx])[1]\n",
    "    #preds_test           += clf.predict_proba(tmp_test, num_iteration = best_iter)[:, 1] / folds.n_splits \n",
    "    preds_test           += predict_proba_with_tta(tmp_test, model = clf, num_iteration = best_iter, \n",
    "                                                   alpha = 0.001, n = 10, seed = 7) / folds.n_splits \n",
    "\n",
    "    ## importance\n",
    "    fold_importance_df = pd.DataFrame()\n",
    "    fold_importance_df['Feature'] = features\n",
    "    fold_importance_df['Importance'] = clf.feature_importances_\n",
    "    fold_importance_df['Fold'] = n_fold + 1\n",
    "    importances = pd.concat([importances, fold_importance_df], axis = 0)\n",
    "    \n",
    "    # print performance\n",
    "    print('----------------------')\n",
    "    print('FOLD%2d: PROFIT = %.0f' % (n_fold + 1, valid_profit[n_fold]))\n",
    "    print('----------------------')\n",
    "    print('')\n",
    "        \n",
    "    # clear memory\n",
    "    del trn_x, trn_y, val_x, val_y\n",
    "    gc.collect()\n",
    "    \n",
    "    # uncomment with mean target encoding\n",
    "    #features = [f for f in train.columns if f not in excluded_feats]\n",
    "    \n",
    "    \n",
    "# print overall performance    \n",
    "cv_perf = np.sum(valid_profit)\n",
    "print('----------------------')\n",
    "print('TOTAL PROFIT = %.0f' % cv_perf)\n",
    "print('----------------------')"
   ]
  },
  {
   "cell_type": "code",
   "execution_count": null,
   "metadata": {},
   "outputs": [],
   "source": [
    "##### RECHECK PROFIT  \n",
    "prediction_reward(y, preds_oof)\n",
    "\n",
    "\n",
    "###### TRACKING RESULTS\n",
    "\n",
    "# V1: lgb, 5 folds, default features:   80\n",
    "# V2: add feature:  no. total items:   250\n",
    "# V3: use logloss for ES, not profit:  260\n",
    "# V4: add feature: no. weird actions:  275\n",
    "# V5: custom earlystop for profit:     320\n",
    "# V6: add SMOTE for minority class:    335\n",
    "# V7: add robust data scaling:         350 "
   ]
  },
  {
   "cell_type": "code",
   "execution_count": null,
   "metadata": {},
   "outputs": [],
   "source": [
    "##### VARIABLE IMPORTANCE\n",
    "\n",
    "# load importance    \n",
    "top_feats = 100\n",
    "cols = importances[['Feature', 'Importance']].groupby('Feature').mean().sort_values(by = 'Importance', ascending = False)[0:top_feats].index\n",
    "importance = importances.loc[importances.Feature.isin(cols)]\n",
    "    \n",
    "# plot variable importance\n",
    "plt.figure(figsize = (10,6))\n",
    "sns.barplot(x = 'Importance', y = 'Feature', data = importance.sort_values(by = 'Importance', ascending = False))\n",
    "plt.tight_layout()\n",
    "\n",
    "# save plot as pdf\n",
    "plt.savefig('../var_importance.pdf')"
   ]
  },
  {
   "cell_type": "code",
   "execution_count": null,
   "metadata": {},
   "outputs": [],
   "source": [
    "##### OPTIMIZE CUTOFF\n",
    "\n",
    "# set step\n",
    "step = 100\n",
    "\n",
    "# search\n",
    "cutoffs = []\n",
    "profits = []\n",
    "for i in range(0, step):\n",
    "    cutoffs.append(i / step)\n",
    "    profits.append(recompute_reward(y, preds_oof, cutoff = cutoffs[i]))\n",
    "        \n",
    "# results\n",
    "plt.figure(figsize = (10,4))\n",
    "sns.lineplot(x = cutoffs[10:step], y = profits[10:step], color = 'red')\n",
    "plt.tight_layout()\n",
    "plt.axvline(x = cutoffs[np.argmax(profits)], color = 'black', linestyle = '--')\n",
    "print('- optimal cutoff = %.4f' % cutoffs[np.argmax(profits)])\n",
    "print('- optimal profit = %.4f' % profits[np.argmax(profits)])\n",
    "plt.savefig('../cutoff_selection.pdf')"
   ]
  },
  {
   "cell_type": "markdown",
   "metadata": {},
   "source": [
    "# 4. SUBMISSION"
   ]
  },
  {
   "cell_type": "code",
   "execution_count": null,
   "metadata": {},
   "outputs": [],
   "source": [
    "# file name\n",
    "model = 'lgb_v7'\n",
    "perf  = str(round(cv_perf, 0).astype('int'))\n",
    "name  = model + '_' + perf"
   ]
  },
  {
   "cell_type": "code",
   "execution_count": null,
   "metadata": {},
   "outputs": [],
   "source": [
    "# export OOF preds\n",
    "oof = pd.DataFrame({'id': train['id'], 'fraud': preds_oof})\n",
    "oof.to_csv('../oof_preds/' + str(name) + '.csv', index = False)\n",
    "oof.head()"
   ]
  },
  {
   "cell_type": "code",
   "execution_count": null,
   "metadata": {},
   "outputs": [],
   "source": [
    "# check submission\n",
    "sub = pd.DataFrame({'id': test['id'], 'fraud': preds_test})\n",
    "sub['fraud'] = np.round(sub['fraud']).astype('int')\n",
    "sub.head()"
   ]
  },
  {
   "cell_type": "code",
   "execution_count": null,
   "metadata": {},
   "outputs": [],
   "source": [
    "# export submission\n",
    "sub = sub[['fraud']]\n",
    "sub.to_csv('../submissions/' + str(name) + '.csv', index = False)\n",
    "sub.shape"
   ]
  },
  {
   "cell_type": "code",
   "execution_count": null,
   "metadata": {},
   "outputs": [],
   "source": [
    "# check correlation with previous submission\n",
    "prev_sub = pd.read_csv('../submissions/lgb_v6_335.csv')\n",
    "cor = np.sum(prev_sub[target] == sub.reset_index()[target]) / len(sub)\n",
    "print(\"Share of the same predictions: \" + str(np.round(cor, 6)))"
   ]
  }
 ],
 "metadata": {
  "kernelspec": {
   "display_name": "Python 3",
   "language": "python",
   "name": "python3"
  },
  "language_info": {
   "codemirror_mode": {
    "name": "ipython",
    "version": 3
   },
   "file_extension": ".py",
   "mimetype": "text/x-python",
   "name": "python",
   "nbconvert_exporter": "python",
   "pygments_lexer": "ipython3",
   "version": "3.6.8"
  }
 },
 "nbformat": 4,
 "nbformat_minor": 2
}
